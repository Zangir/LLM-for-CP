{
 "cells": [
  {
   "cell_type": "code",
   "execution_count": null,
   "metadata": {},
   "outputs": [],
   "source": [
    "import warnings\n",
    "warnings.filterwarnings('ignore') \n",
    "\n",
    "from models import *\n",
    "from data_processing2 import *\n",
    "from method import *\n",
    "import os"
   ]
  },
  {
   "cell_type": "code",
   "execution_count": 2,
   "metadata": {},
   "outputs": [],
   "source": [
    "# os.environ[\"GOOGLE_API_KEY\"] = \"\" \n",
    "# os.environ[\"OPENAI_API_KEY\"] = \"\""
   ]
  },
  {
   "cell_type": "markdown",
   "metadata": {},
   "source": [
    "### GET MODEL"
   ]
  },
  {
   "cell_type": "code",
   "execution_count": 3,
   "metadata": {},
   "outputs": [],
   "source": [
    "model_type = \"openai\" \n",
    "model_name = \"gpt-4-turbo-preview\"\n",
    "model = llm_function(model_type, model_name)"
   ]
  },
  {
   "cell_type": "markdown",
   "metadata": {},
   "source": [
    "### CP TASK"
   ]
  },
  {
   "cell_type": "code",
   "execution_count": 4,
   "metadata": {},
   "outputs": [
    {
     "name": "stdout",
     "output_type": "stream",
     "text": [
      "Input Problem:  You are given a list of customers with coordinates: (1): (87, 39); (2): (1, 90); (3): (28, 65); (4): (85, 85); and a list of customer demands: (1): 12; (2): 8; (3): 16; (4): 5;. There is a depot (Customer 0) with coordinates (50, 50) and a vehicle with a maximum capacity of 50. The goal is to find the route that has the minimum total length and go through all the customers, starting and ending at the depot. \n",
      "\n",
      "Methods to solve:  ['- Nearest Neighbor', '- Genetic Algorithm', '- Simulated Annealing', '- Tabu Search', '- Ant Colony Optimization', '- Particle Swarm Optimization'] \n",
      "\n",
      "Solution:  [0, 1, 2, 3, 4, 0]\n"
     ]
    }
   ],
   "source": [
    "or_task_name = \"vrp\"\n",
    "max_interval = 100\n",
    "num_cities = 4\n",
    "num_vehicles = 1\n",
    "capacity = 50\n",
    "or_task_obj = VRP(max_interval, num_cities, num_vehicles, capacity)\n",
    "coords = np.array([\n",
    "    [50,50],\n",
    "    [87,39],\n",
    "    [1, 90],\n",
    "    [28,65],\n",
    "    [85,85]\n",
    "                   ])\n",
    "demands = np.array([0, 12, 8, 16, 5])\n",
    "or_task_obj.variables = {\n",
    "                        'coords' : coords, \n",
    "                        'demands' : demands, \n",
    "                        'capacity' : capacity\n",
    "                        }\n",
    "inp_vrp = or_task_obj.create_prompt()\n",
    "print('Input Problem: ', inp_vrp, '\\n')\n",
    "out = fast_SGE(inp_vrp, model)\n",
    "solution = get_cp_solution(out, or_task_name, num_cities)\n",
    "print('Solution: ', solution)"
   ]
  },
  {
   "cell_type": "markdown",
   "metadata": {},
   "source": [
    "### GSM TASK"
   ]
  },
  {
   "cell_type": "code",
   "execution_count": 5,
   "metadata": {},
   "outputs": [],
   "source": [
    "huggingface_task_name = \"gsm8k\"\n",
    "tasks, answers = get_huggingface_dataset(huggingface_task_name)"
   ]
  },
  {
   "cell_type": "code",
   "execution_count": 6,
   "metadata": {},
   "outputs": [
    {
     "name": "stdout",
     "output_type": "stream",
     "text": [
      "Input Problem:  A robe takes 2 bolts of blue fiber and half that much white fiber.  How many bolts in total does it take? \n",
      "\n",
      "Correct Answer:  It takes 2/2=<<2/2=1>>1 bolt of white fiber\n",
      "So the total amount of fabric is 2+1=<<2+1=3>>3 bolts of fabric\n",
      "#### 3 \n",
      "\n",
      "Methods to solve:  ['To solve this problem, several heuristic methods can be employed. Each method can help break down or simplify the process of finding the solution. Here are some heuristic methods that can be applied:', '', '- Break the problem into smaller parts', '- Use analogy', '- Simplify the problem', '- Work backwards', '- Make an educated guess or use estimation', '- Draw a diagram or use visual aids', '- Use systematic trial and error'] \n",
      "\n",
      "Solution:  3\n"
     ]
    }
   ],
   "source": [
    "i = 1\n",
    "inp = tasks[i]\n",
    "print('Input Problem: ', inp, '\\n')\n",
    "correct_out = answers[i]\n",
    "print('Correct Answer: ', correct_out, '\\n')\n",
    "out = fast_SGE(inp, model)\n",
    "solution = get_classical_solution(out)\n",
    "print('Solution: ', solution)"
   ]
  }
 ],
 "metadata": {
  "kernelspec": {
   "display_name": "kcl_nlp",
   "language": "python",
   "name": "python3"
  },
  "language_info": {
   "codemirror_mode": {
    "name": "ipython",
    "version": 3
   },
   "file_extension": ".py",
   "mimetype": "text/x-python",
   "name": "python",
   "nbconvert_exporter": "python",
   "pygments_lexer": "ipython3",
   "version": "3.9.13"
  }
 },
 "nbformat": 4,
 "nbformat_minor": 2
}
